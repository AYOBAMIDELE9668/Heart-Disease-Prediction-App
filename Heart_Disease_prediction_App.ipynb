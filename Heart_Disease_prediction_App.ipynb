{
  "nbformat": 4,
  "nbformat_minor": 0,
  "metadata": {
    "colab": {
      "provenance": []
    },
    "kernelspec": {
      "name": "python3",
      "display_name": "Python 3"
    },
    "language_info": {
      "name": "python"
    }
  },
  "cells": [
    {
      "cell_type": "markdown",
      "source": [
        "Install and Import Required Libraries"
      ],
      "metadata": {
        "id": "aspVEBMbvct3"
      }
    },
    {
      "cell_type": "code",
      "execution_count": 1,
      "metadata": {
        "id": "thGSujdwvNsO"
      },
      "outputs": [],
      "source": [
        "import pandas as pd\n",
        "import numpy as np\n",
        "import matplotlib.pyplot as plt\n",
        "import seaborn as sns\n",
        "from google.colab import files"
      ]
    },
    {
      "cell_type": "markdown",
      "source": [
        "Load the Dataset"
      ],
      "metadata": {
        "id": "XOAHkNiMvl5d"
      }
    },
    {
      "cell_type": "code",
      "source": [
        "df = pd.read_csv('heart_disease_uci.csv')\n"
      ],
      "metadata": {
        "id": "J5qlw4QsvtZ7"
      },
      "execution_count": 2,
      "outputs": []
    },
    {
      "cell_type": "markdown",
      "source": [
        "Display first few rows"
      ],
      "metadata": {
        "id": "l3frLbIovzMd"
      }
    },
    {
      "cell_type": "code",
      "source": [
        "print(df.head(5))"
      ],
      "metadata": {
        "colab": {
          "base_uri": "https://localhost:8080/"
        },
        "id": "Eyl5imbRv3-W",
        "outputId": "a0593161-fe23-4abe-8aa5-573f54c7cb6b"
      },
      "execution_count": 3,
      "outputs": [
        {
          "output_type": "stream",
          "name": "stdout",
          "text": [
            "   id  age     sex    dataset               cp  trestbps   chol    fbs  \\\n",
            "0   1   63    Male  Cleveland   typical angina     145.0  233.0   True   \n",
            "1   2   67    Male  Cleveland     asymptomatic     160.0  286.0  False   \n",
            "2   3   67    Male  Cleveland     asymptomatic     120.0  229.0  False   \n",
            "3   4   37    Male  Cleveland      non-anginal     130.0  250.0  False   \n",
            "4   5   41  Female  Cleveland  atypical angina     130.0  204.0  False   \n",
            "\n",
            "          restecg  thalch  exang  oldpeak        slope   ca  \\\n",
            "0  lv hypertrophy   150.0  False      2.3  downsloping  0.0   \n",
            "1  lv hypertrophy   108.0   True      1.5         flat  3.0   \n",
            "2  lv hypertrophy   129.0   True      2.6         flat  2.0   \n",
            "3          normal   187.0  False      3.5  downsloping  0.0   \n",
            "4  lv hypertrophy   172.0  False      1.4    upsloping  0.0   \n",
            "\n",
            "                thal  num  \n",
            "0       fixed defect    0  \n",
            "1             normal    2  \n",
            "2  reversable defect    1  \n",
            "3             normal    0  \n",
            "4             normal    0  \n"
          ]
        }
      ]
    },
    {
      "cell_type": "markdown",
      "source": [
        "Inspect Data"
      ],
      "metadata": {
        "id": "TdWPGa--wAf2"
      }
    },
    {
      "cell_type": "code",
      "source": [
        "print(\"\\nDataset Info:\")\n",
        "print(df.info())\n",
        "print(\"\\nMissing Values:\")\n",
        "print(df.isnull().sum())\n"
      ],
      "metadata": {
        "colab": {
          "base_uri": "https://localhost:8080/"
        },
        "id": "s4Zq9WdwwI1v",
        "outputId": "6306fa65-e4a9-460f-9dc6-51dfaf5ca530"
      },
      "execution_count": 4,
      "outputs": [
        {
          "output_type": "stream",
          "name": "stdout",
          "text": [
            "\n",
            "Dataset Info:\n",
            "<class 'pandas.core.frame.DataFrame'>\n",
            "RangeIndex: 920 entries, 0 to 919\n",
            "Data columns (total 16 columns):\n",
            " #   Column    Non-Null Count  Dtype  \n",
            "---  ------    --------------  -----  \n",
            " 0   id        920 non-null    int64  \n",
            " 1   age       920 non-null    int64  \n",
            " 2   sex       920 non-null    object \n",
            " 3   dataset   920 non-null    object \n",
            " 4   cp        920 non-null    object \n",
            " 5   trestbps  861 non-null    float64\n",
            " 6   chol      890 non-null    float64\n",
            " 7   fbs       830 non-null    object \n",
            " 8   restecg   918 non-null    object \n",
            " 9   thalch    865 non-null    float64\n",
            " 10  exang     865 non-null    object \n",
            " 11  oldpeak   858 non-null    float64\n",
            " 12  slope     611 non-null    object \n",
            " 13  ca        309 non-null    float64\n",
            " 14  thal      434 non-null    object \n",
            " 15  num       920 non-null    int64  \n",
            "dtypes: float64(5), int64(3), object(8)\n",
            "memory usage: 115.1+ KB\n",
            "None\n",
            "\n",
            "Missing Values:\n",
            "id            0\n",
            "age           0\n",
            "sex           0\n",
            "dataset       0\n",
            "cp            0\n",
            "trestbps     59\n",
            "chol         30\n",
            "fbs          90\n",
            "restecg       2\n",
            "thalch       55\n",
            "exang        55\n",
            "oldpeak      62\n",
            "slope       309\n",
            "ca          611\n",
            "thal        486\n",
            "num           0\n",
            "dtype: int64\n"
          ]
        }
      ]
    },
    {
      "cell_type": "markdown",
      "source": [
        "Rename target column and clean"
      ],
      "metadata": {
        "id": "WwJvffa8wRnl"
      }
    },
    {
      "cell_type": "code",
      "source": [
        "df.rename(columns={'num': 'target'}, inplace=True)\n",
        "df['target'] = (df['target'] > 0).astype(int)"
      ],
      "metadata": {
        "id": "H3VGmcmOwa3-"
      },
      "execution_count": 6,
      "outputs": []
    },
    {
      "cell_type": "markdown",
      "source": [
        "Drop 'id' column (not useful)"
      ],
      "metadata": {
        "id": "lvHiGocDwpI2"
      }
    },
    {
      "cell_type": "code",
      "source": [
        "df.drop(columns=['id'], inplace=True)\n"
      ],
      "metadata": {
        "id": "m3NrFGBRwu6-"
      },
      "execution_count": 7,
      "outputs": []
    },
    {
      "cell_type": "markdown",
      "source": [
        "Handle Missing Values"
      ],
      "metadata": {
        "id": "I1U3ApEUw0cW"
      }
    },
    {
      "cell_type": "code",
      "source": [
        "df.replace({'': np.nan, '?': np.nan}, inplace=True)"
      ],
      "metadata": {
        "id": "5dpfu7Kpw5Ae"
      },
      "execution_count": 8,
      "outputs": []
    },
    {
      "cell_type": "markdown",
      "source": [
        "Convert numeric columns to float where necessary"
      ],
      "metadata": {
        "id": "IcV70IFJw-m4"
      }
    },
    {
      "cell_type": "code",
      "source": [
        "numeric_cols = ['age', 'trestbps', 'chol', 'thalch', 'oldpeak', 'ca']\n",
        "for col in numeric_cols:\n",
        "    df[col] = pd.to_numeric(df[col], errors='coerce')\n"
      ],
      "metadata": {
        "id": "DkFm4SILxFAe"
      },
      "execution_count": 9,
      "outputs": []
    },
    {
      "cell_type": "markdown",
      "source": [
        "Fill missing numeric values with median"
      ],
      "metadata": {
        "id": "RZslaZQ8xKj-"
      }
    },
    {
      "cell_type": "code",
      "source": [
        "for col in numeric_cols:\n",
        "    df[col].fillna(df[col].median(), inplace=True)"
      ],
      "metadata": {
        "colab": {
          "base_uri": "https://localhost:8080/"
        },
        "id": "Fk5pOBaExPhA",
        "outputId": "bec44c4b-f00a-4dcf-d3ae-a4909ceb5091"
      },
      "execution_count": 10,
      "outputs": [
        {
          "output_type": "stream",
          "name": "stderr",
          "text": [
            "/tmp/ipython-input-3154000584.py:2: FutureWarning: A value is trying to be set on a copy of a DataFrame or Series through chained assignment using an inplace method.\n",
            "The behavior will change in pandas 3.0. This inplace method will never work because the intermediate object on which we are setting values always behaves as a copy.\n",
            "\n",
            "For example, when doing 'df[col].method(value, inplace=True)', try using 'df.method({col: value}, inplace=True)' or df[col] = df[col].method(value) instead, to perform the operation inplace on the original object.\n",
            "\n",
            "\n",
            "  df[col].fillna(df[col].median(), inplace=True)\n"
          ]
        }
      ]
    },
    {
      "cell_type": "markdown",
      "source": [
        "Categorical columns: fill with mode"
      ],
      "metadata": {
        "id": "qshOoaMGxVUF"
      }
    },
    {
      "cell_type": "code",
      "source": [
        "categorical_cols = ['cp', 'fbs', 'restecg', 'exang', 'slope', 'thal', 'sex', 'dataset']\n",
        "for col in categorical_cols:\n",
        "    df[col].fillna(df[col].mode()[0], inplace=True)"
      ],
      "metadata": {
        "colab": {
          "base_uri": "https://localhost:8080/"
        },
        "id": "A46VWpLbxcK3",
        "outputId": "f6f364d0-7ba3-4f8a-8254-b65e4792656c"
      },
      "execution_count": 11,
      "outputs": [
        {
          "output_type": "stream",
          "name": "stderr",
          "text": [
            "/tmp/ipython-input-3512451438.py:3: FutureWarning: A value is trying to be set on a copy of a DataFrame or Series through chained assignment using an inplace method.\n",
            "The behavior will change in pandas 3.0. This inplace method will never work because the intermediate object on which we are setting values always behaves as a copy.\n",
            "\n",
            "For example, when doing 'df[col].method(value, inplace=True)', try using 'df.method({col: value}, inplace=True)' or df[col] = df[col].method(value) instead, to perform the operation inplace on the original object.\n",
            "\n",
            "\n",
            "  df[col].fillna(df[col].mode()[0], inplace=True)\n",
            "/tmp/ipython-input-3512451438.py:3: FutureWarning: Downcasting object dtype arrays on .fillna, .ffill, .bfill is deprecated and will change in a future version. Call result.infer_objects(copy=False) instead. To opt-in to the future behavior, set `pd.set_option('future.no_silent_downcasting', True)`\n",
            "  df[col].fillna(df[col].mode()[0], inplace=True)\n"
          ]
        }
      ]
    },
    {
      "cell_type": "markdown",
      "source": [
        "Encode Categorical Variables"
      ],
      "metadata": {
        "id": "ChDu0vBqxjrJ"
      }
    },
    {
      "cell_type": "code",
      "source": [
        "categorical_cols.remove('sex')  # We'll handle 'sex' separately as binary\n",
        "df = pd.get_dummies(df, columns=categorical_cols, drop_first=True)\n"
      ],
      "metadata": {
        "id": "wFczr67JxovW"
      },
      "execution_count": 12,
      "outputs": []
    },
    {
      "cell_type": "markdown",
      "source": [
        "Encode 'sex': Male = 1, Female = 0"
      ],
      "metadata": {
        "id": "h0lE-QRXxtrv"
      }
    },
    {
      "cell_type": "code",
      "source": [
        "df['sex'] = df['sex'].map({'Male': 1, 'Female': 0})\n",
        "\n",
        "print(\"Shape after encoding:\", df.shape)\n"
      ],
      "metadata": {
        "colab": {
          "base_uri": "https://localhost:8080/"
        },
        "id": "fWdgyHoRx1Ou",
        "outputId": "a4dc8c74-5f51-4b26-ea5b-d997ffa2668b"
      },
      "execution_count": 13,
      "outputs": [
        {
          "output_type": "stream",
          "name": "stdout",
          "text": [
            "Shape after encoding: (920, 22)\n"
          ]
        }
      ]
    },
    {
      "cell_type": "markdown",
      "source": [
        "Define Features and Target"
      ],
      "metadata": {
        "id": "kcQg9k-7x7no"
      }
    },
    {
      "cell_type": "code",
      "source": [
        "X = df.drop('target', axis=1)\n",
        "y = df['target']\n"
      ],
      "metadata": {
        "id": "t_pxifO5yC0e"
      },
      "execution_count": 14,
      "outputs": []
    },
    {
      "cell_type": "markdown",
      "source": [
        "Train-Test Split"
      ],
      "metadata": {
        "id": "UeDW4ieoyJIK"
      }
    },
    {
      "cell_type": "code",
      "source": [
        "from sklearn.model_selection import train_test_split\n",
        "X_train, X_test, y_train, y_test = train_test_split(X, y, test_size=0.2, random_state=42, stratify=y)"
      ],
      "metadata": {
        "id": "8m7sXkryyNeW"
      },
      "execution_count": 16,
      "outputs": []
    },
    {
      "cell_type": "markdown",
      "source": [
        " Scale the Features"
      ],
      "metadata": {
        "id": "OeCBiPUsyX7v"
      }
    },
    {
      "cell_type": "code",
      "source": [
        "from sklearn.preprocessing import StandardScaler\n",
        "scaler = StandardScaler()\n",
        "X_train_scaled = scaler.fit_transform(X_train)\n",
        "X_test_scaled = scaler.transform(X_test)\n"
      ],
      "metadata": {
        "id": "VkBisFOPyeqn"
      },
      "execution_count": 17,
      "outputs": []
    },
    {
      "cell_type": "markdown",
      "source": [
        "Train Models"
      ],
      "metadata": {
        "id": "bkO9NmJgyjdu"
      }
    },
    {
      "cell_type": "code",
      "source": [
        "from sklearn.linear_model import LogisticRegression\n",
        "from sklearn.tree import DecisionTreeClassifier\n",
        "from sklearn.ensemble import RandomForestClassifier\n",
        "from sklearn.metrics import accuracy_score, precision_score, recall_score, f1_score, roc_auc_score, confusion_matrix, roc_curve\n"
      ],
      "metadata": {
        "id": "T6mTREICyr4_"
      },
      "execution_count": 18,
      "outputs": []
    },
    {
      "cell_type": "markdown",
      "source": [
        "Dictionary to store results"
      ],
      "metadata": {
        "id": "PyXCtBIQyzXP"
      }
    },
    {
      "cell_type": "code",
      "source": [
        "models = {}\n",
        "results = []\n"
      ],
      "metadata": {
        "id": "zx_5zWIay38e"
      },
      "execution_count": 19,
      "outputs": []
    },
    {
      "cell_type": "markdown",
      "source": [
        "Logistic Regression"
      ],
      "metadata": {
        "id": "LOPJUYoFy8zm"
      }
    },
    {
      "cell_type": "code",
      "source": [
        "lr = LogisticRegression(max_iter=1000, random_state=42)\n",
        "lr.fit(X_train_scaled, y_train)\n",
        "y_pred_lr = lr.predict(X_test_scaled)\n",
        "y_prob_lr = lr.predict_proba(X_test_scaled)[:, 1]\n",
        "models['Logistic Regression'] = lr\n",
        "results.append({\n",
        "    'Model': 'Logistic Regression',\n",
        "    'Accuracy': accuracy_score(y_test, y_pred_lr),\n",
        "    'Precision': precision_score(y_test, y_pred_lr),\n",
        "    'Recall': recall_score(y_test, y_pred_lr),\n",
        "    'F1': f1_score(y_test, y_pred_lr),\n",
        "    'ROC-AUC': roc_auc_score(y_test, y_prob_lr)\n",
        "})"
      ],
      "metadata": {
        "id": "SHrP58TRzD5O"
      },
      "execution_count": 20,
      "outputs": []
    },
    {
      "cell_type": "markdown",
      "source": [
        "Decision Tree"
      ],
      "metadata": {
        "id": "Np0O4w9izKfV"
      }
    },
    {
      "cell_type": "code",
      "source": [
        "dt = DecisionTreeClassifier(random_state=42, max_depth=8, min_samples_split=5)\n",
        "dt.fit(X_train, y_train)  # No scaling needed\n",
        "y_pred_dt = dt.predict(X_test)\n",
        "y_prob_dt = dt.predict_proba(X_test)[:, 1]\n",
        "models['Decision Tree'] = dt\n",
        "results.append({\n",
        "    'Model': 'Decision Tree',\n",
        "    'Accuracy': accuracy_score(y_test, y_pred_dt),\n",
        "    'Precision': precision_score(y_test, y_pred_dt),\n",
        "    'Recall': recall_score(y_test, y_pred_dt),\n",
        "    'F1': f1_score(y_test, y_pred_dt),\n",
        "    'ROC-AUC': roc_auc_score(y_test, y_prob_dt)\n",
        "})"
      ],
      "metadata": {
        "id": "Y2tXEQltzQ3n"
      },
      "execution_count": 21,
      "outputs": []
    },
    {
      "cell_type": "markdown",
      "source": [
        "Random Forest"
      ],
      "metadata": {
        "id": "QXQ62QKOzX0h"
      }
    },
    {
      "cell_type": "code",
      "source": [
        "rf = RandomForestClassifier(n_estimators=100, max_depth=7, min_samples_split=5,\n",
        "                           random_state=42, class_weight='balanced')\n",
        "rf.fit(X_train, y_train)\n",
        "y_pred_rf = rf.predict(X_test)\n",
        "y_prob_rf = rf.predict_proba(X_test)[:, 1]\n",
        "models['Random Forest'] = rf\n",
        "results.append({\n",
        "    'Model': 'Random Forest',\n",
        "    'Accuracy': accuracy_score(y_test, y_pred_rf),\n",
        "    'Precision': precision_score(y_test, y_pred_rf),\n",
        "    'Recall': recall_score(y_test, y_pred_rf),\n",
        "    'F1': f1_score(y_test, y_pred_rf),\n",
        "    'ROC-AUC': roc_auc_score(y_test, y_prob_rf)\n",
        "})\n"
      ],
      "metadata": {
        "id": "LTs-Rtf1zf5W"
      },
      "execution_count": 22,
      "outputs": []
    },
    {
      "cell_type": "markdown",
      "source": [
        "Display Results"
      ],
      "metadata": {
        "id": "S42L8VWpzqVH"
      }
    },
    {
      "cell_type": "code",
      "source": [
        "results_df = pd.DataFrame(results)\n",
        "print(\"\\n Model Performance Comparison:\")\n",
        "print(results_df.round(4))\n"
      ],
      "metadata": {
        "colab": {
          "base_uri": "https://localhost:8080/"
        },
        "id": "BIQfSG_wzwbI",
        "outputId": "873e6f97-0d1f-46df-a0ce-19ca1124b46a"
      },
      "execution_count": 23,
      "outputs": [
        {
          "output_type": "stream",
          "name": "stdout",
          "text": [
            "\n",
            " Model Performance Comparison:\n",
            "                 Model  Accuracy  Precision  Recall      F1  ROC-AUC\n",
            "0  Logistic Regression    0.8370     0.8273  0.8922  0.8585   0.9213\n",
            "1        Decision Tree    0.7989     0.7876  0.8725  0.8279   0.8488\n",
            "2        Random Forest    0.8533     0.8505  0.8922  0.8708   0.9219\n"
          ]
        }
      ]
    },
    {
      "cell_type": "markdown",
      "source": [
        "Highlight best model"
      ],
      "metadata": {
        "id": "7QpzvLPT0Dv3"
      }
    },
    {
      "cell_type": "code",
      "source": [
        "best_model = results_df.loc[results_df['F1'].idxmax()]['Model']\n",
        "print(f\"\\n Best Model (by F1-score): {best_model}\")"
      ],
      "metadata": {
        "colab": {
          "base_uri": "https://localhost:8080/"
        },
        "id": "JVR0yysz0JZ2",
        "outputId": "c102ec94-8070-41eb-d517-b45e9a65a8c8"
      },
      "execution_count": 24,
      "outputs": [
        {
          "output_type": "stream",
          "name": "stdout",
          "text": [
            "\n",
            " Best Model (by F1-score): Random Forest\n"
          ]
        }
      ]
    },
    {
      "cell_type": "markdown",
      "source": [
        "Confusion Matrix for Best Model"
      ],
      "metadata": {
        "id": "kUg6keUO0UIw"
      }
    },
    {
      "cell_type": "code",
      "source": [
        "def plot_confusion_matrix(model_name):\n",
        "    y_pred = models[model_name].predict(X_test if 'Tree' in model_name else X_test_scaled)\n",
        "    cm = confusion_matrix(y_test, y_pred)\n",
        "    plt.figure(figsize=(6,5))\n",
        "    sns.heatmap(cm, annot=True, fmt='d', cmap='Blues', xticklabels=['No HD', 'HD'], yticklabels=['No HD', 'HD'])\n",
        "    plt.title(f'Confusion Matrix - {model_name}')\n",
        "    plt.ylabel('Actual')\n",
        "    plt.xlabel('Predicted')\n",
        "    plt.show()\n",
        "\n",
        "plot_confusion_matrix(best_model)\n"
      ],
      "metadata": {
        "colab": {
          "base_uri": "https://localhost:8080/",
          "height": 542
        },
        "id": "7zXZP40L0u6e",
        "outputId": "3f2ccd5e-7548-481a-cf5f-73395b2e3b55"
      },
      "execution_count": 26,
      "outputs": [
        {
          "output_type": "stream",
          "name": "stderr",
          "text": [
            "/usr/local/lib/python3.12/dist-packages/sklearn/utils/validation.py:2739: UserWarning: X does not have valid feature names, but RandomForestClassifier was fitted with feature names\n",
            "  warnings.warn(\n"
          ]
        },
        {
          "output_type": "display_data",
          "data": {
            "text/plain": [
              "<Figure size 600x500 with 2 Axes>"
            ],
            "image/png": "[encoded data removed]"
          },
          "metadata": {}
        }
      ]
    },
    {
      "cell_type": "markdown",
      "source": [
        "ROC Curve for All Models"
      ],
      "metadata": {
        "id": "iD8kZoTA03Vw"
      }
    },
    {
      "cell_type": "code",
      "source": [
        "plt.figure(figsize=(8,6))\n",
        "for model_name in models.keys():\n",
        "    if model_name == 'Logistic Regression':\n",
        "        y_prob = lr.predict_proba(X_test_scaled)[:, 1]\n",
        "        fpr, tpr, _ = roc_curve(y_test, y_prob)\n",
        "        plt.plot(fpr, tpr, label=f\"{model_name} (AUC = {roc_auc_score(y_test, y_prob):.3f})\")\n",
        "    elif model_name == 'Decision Tree':\n",
        "        y_prob = dt.predict_proba(X_test)[:, 1]\n",
        "        fpr, tpr, _ = roc_curve(y_test, y_prob)\n",
        "        plt.plot(fpr, tpr, label=f\"{model_name} (AUC = {roc_auc_score(y_test, y_prob):.3f})\")\n",
        "    elif model_name == 'Random Forest':\n",
        "        y_prob = rf.predict_proba(X_test)[:, 1]\n",
        "        fpr, tpr, _ = roc_curve(y_test, y_prob)\n",
        "        plt.plot(fpr, tpr, label=f\"{model_name} (AUC = {roc_auc_score(y_test, y_prob):.3f})\")\n",
        "\n",
        "plt.plot([0,1], [0,1], 'k--', label='Random Guess')\n",
        "plt.xlabel('False Positive Rate')\n",
        "plt.ylabel('True Positive Rate')\n",
        "plt.title('ROC Curve - Model Comparison')\n",
        "plt.legend()\n",
        "plt.grid(True)\n",
        "plt.show()\n"
      ],
      "metadata": {
        "colab": {
          "base_uri": "https://localhost:8080/",
          "height": 564
        },
        "id": "uuMNT27j0_R3",
        "outputId": "fe0e8f2b-e447-4a0f-a6fd-eee8cbe0217f"
      },
      "execution_count": 27,
      "outputs": [
        {
          "output_type": "display_data",
          "data": {
            "text/plain": [
              "<Figure size 800x600 with 1 Axes>"
            ],
            "image/png": "[encoded data removed]"
          },
          "metadata": {}
        }
      ]
    },
    {
      "cell_type": "markdown",
      "source": [
        "Feature Importance (Random Forest)"
      ],
      "metadata": {
        "id": "Bg0_mXkW1JFP"
      }
    },
    {
      "cell_type": "code",
      "source": [
        "if best_model == 'Random Forest':\n",
        "    feat_importance = pd.Series(rf.feature_importances_, index=X.columns).sort_values(ascending=False)\n",
        "    plt.figure(figsize=(8,6))\n",
        "    feat_importance.head(10).plot(kind='bar', color='skyblue')\n",
        "    plt.title('Top 10 Feature Importances (Random Forest)')\n",
        "    plt.ylabel('Importance')\n",
        "    plt.xticks(rotation=45)\n",
        "    plt.tight_layout()\n",
        "    plt.show()"
      ],
      "metadata": {
        "colab": {
          "base_uri": "https://localhost:8080/",
          "height": 607
        },
        "id": "peDcpMR11Npa",
        "outputId": "7abe8354-cbed-45ae-f860-917735b8ca29"
      },
      "execution_count": 28,
      "outputs": [
        {
          "output_type": "display_data",
          "data": {
            "text/plain": [
              "<Figure size 800x600 with 1 Axes>"
            ],
            "image/png": "[encoded data removed]"
          },
          "metadata": {}
        }
      ]
    },
    {
      "cell_type": "markdown",
      "source": [
        "save model"
      ],
      "metadata": {
        "id": "zbdlosTZ1gbH"
      }
    },
    {
      "cell_type": "code",
      "source": [
        "import joblib\n",
        "\n",
        "# Select best model\n",
        "best_model_instance = models[best_model]\n",
        "\n",
        "# Save model and scaler\n",
        "joblib.dump(best_model_instance, 'heart_disease_model.pkl')\n",
        "joblib.dump(scaler, 'scaler.pkl')\n",
        "joblib.dump(X.columns.tolist(), 'feature_columns.pkl')  # Save feature names for inference\n",
        "\n",
        "print(\"\\n✅ Best model and preprocessing objects saved!\")\n",
        "print(\"Files: 'heart_disease_model.pkl', 'scaler.pkl', 'feature_columns.pkl'\")"
      ],
      "metadata": {
        "colab": {
          "base_uri": "https://localhost:8080/"
        },
        "id": "fO7FGY6w1iw2",
        "outputId": "23153596-81ad-47f3-8e2d-5b92bf5e3608"
      },
      "execution_count": 30,
      "outputs": [
        {
          "output_type": "stream",
          "name": "stdout",
          "text": [
            "\n",
            "✅ Best model and preprocessing objects saved!\n",
            "Files: 'heart_disease_model.pkl', 'scaler.pkl', 'feature_columns.pkl'\n"
          ]
        }
      ]
    }
  ]
}